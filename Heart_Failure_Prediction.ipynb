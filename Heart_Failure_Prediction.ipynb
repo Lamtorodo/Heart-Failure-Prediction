{
 "cells": [
  {
   "cell_type": "markdown",
   "metadata": {
    "id": "uv2liESjhKCl"
   },
   "source": [
    "# HEART FAILURE PREDICTION​\n",
    "## BA Mamoudou & Lucien Medard DAHOUE, MSD 1"
   ]
  },
  {
   "cell_type": "markdown",
   "metadata": {
    "id": "JxTfjpe8hcAc"
   },
   "source": [
    "- *Description* : Il s'agit de la prediction des facteurs de risque de deces de crise cardiaque​.\n",
    "\n",
    "\n",
    "- *Variable cible Décès  (DEATH_EVENT)* : Elle prend la valeur 1 si l'individu décède suite à une crise cardiaque et 0 sinon.\n",
    "\n",
    "On dispose de 12 variables (feature) dont 7 variablees enumeratives​ et 6 variables categorielles​. Le nombre d'observation de la base de donnees est de 299 observations​.\n",
    "\n",
    "- *Variables numeriques*\n",
    "Age de l'individu (age)​\n",
    "\n",
    "Taux de l'enzyme CPK dans le sang (mcg/L) (*creatinine_phosphokinasesort*)​\n",
    "\n",
    "Pourcentage de sang quittant le cœur à chaque contraction (*ejection_fraction*)​\n",
    "\n",
    "Plaquettes dans le sang (kiloplatelets/mL) (*platelets*)​\n",
    "\n",
    "Taux de créatinine sérique dans le sang (mg/dL) (*serum_creatinine*)​\n",
    "\n",
    "Taux de sodium sérique dans le sang (mEq/L) (*serum_sodium*)​\n",
    "\n",
    "Période de suivi (jours) (*time*)\n",
    "\n",
    "- *Variables categorielles*\n",
    "Diminution des globules rouges ou de l'hémoglobine (*anaemia*)​\n",
    "\n",
    "Patient est diabétique (*diabetes*)​\n",
    "\n",
    "Patient souffre d'hypertension  (*high_blood_pressuresort*)​\n",
    "\n",
    "Sexe (*sex*)​\n",
    "\n",
    "Fumeur ou non (*smoking*)​"
   ]
  },
  {
   "cell_type": "code",
   "execution_count": 1,
   "metadata": {
    "id": "YjHwXyMhZ96i"
   },
   "outputs": [],
   "source": [
    "\"\"\" Importation des librairies utiles\"\"\"\n",
    "\n",
    "import pandas as pd\n",
    "from sklearn import preprocessing\n",
    "import pickle\n",
    "from sklearn.model_selection import train_test_split\n",
    "\n",
    "import numpy as np # linear algebra\n",
    "import sklearn\n",
    "import seaborn as sns # data visualization library  \n",
    "import matplotlib.pyplot as plt\n",
    "import time\n",
    "from subprocess import check_output\n",
    "from sklearn.neighbors import KNeighborsClassifier\n",
    "from sklearn.metrics import precision_score\n",
    "from sklearn.metrics import classification_report\n",
    "from sklearn.metrics import confusion_matrix\n",
    "from sklearn.metrics import accuracy_score\n",
    "from sklearn.model_selection import train_test_split\n",
    "from sklearn.model_selection import cross_val_score\n",
    "from sklearn.model_selection import KFold\n",
    "from sklearn.tree import DecisionTreeClassifier\n",
    "from sklearn.naive_bayes import GaussianNB\n",
    "from sklearn.pipeline import Pipeline\n",
    "from sklearn.preprocessing import StandardScaler\n",
    "from sklearn.model_selection import GridSearchCV\n",
    "from sklearn.svm import SVC\n",
    "import time"
   ]
  },
  {
   "cell_type": "code",
   "execution_count": 2,
   "metadata": {
    "colab": {
     "base_uri": "https://localhost:8080/",
     "height": 224
    },
    "id": "3IpqWx9xcfWa",
    "outputId": "4be9567d-9c1c-4e1c-d081-cade0ead6d98"
   },
   "outputs": [
    {
     "data": {
      "text/html": [
       "<div>\n",
       "<style scoped>\n",
       "    .dataframe tbody tr th:only-of-type {\n",
       "        vertical-align: middle;\n",
       "    }\n",
       "\n",
       "    .dataframe tbody tr th {\n",
       "        vertical-align: top;\n",
       "    }\n",
       "\n",
       "    .dataframe thead th {\n",
       "        text-align: right;\n",
       "    }\n",
       "</style>\n",
       "<table border=\"1\" class=\"dataframe\">\n",
       "  <thead>\n",
       "    <tr style=\"text-align: right;\">\n",
       "      <th></th>\n",
       "      <th>age</th>\n",
       "      <th>anaemia</th>\n",
       "      <th>creatinine_phosphokinase</th>\n",
       "      <th>diabetes</th>\n",
       "      <th>ejection_fraction</th>\n",
       "      <th>high_blood_pressure</th>\n",
       "      <th>platelets</th>\n",
       "      <th>serum_creatinine</th>\n",
       "      <th>serum_sodium</th>\n",
       "      <th>sex</th>\n",
       "      <th>smoking</th>\n",
       "      <th>time</th>\n",
       "      <th>DEATH_EVENT</th>\n",
       "    </tr>\n",
       "  </thead>\n",
       "  <tbody>\n",
       "    <tr>\n",
       "      <th>0</th>\n",
       "      <td>75.0</td>\n",
       "      <td>0</td>\n",
       "      <td>582</td>\n",
       "      <td>0</td>\n",
       "      <td>20</td>\n",
       "      <td>1</td>\n",
       "      <td>265000.00</td>\n",
       "      <td>1.9</td>\n",
       "      <td>130</td>\n",
       "      <td>1</td>\n",
       "      <td>0</td>\n",
       "      <td>4</td>\n",
       "      <td>1</td>\n",
       "    </tr>\n",
       "    <tr>\n",
       "      <th>1</th>\n",
       "      <td>55.0</td>\n",
       "      <td>0</td>\n",
       "      <td>7861</td>\n",
       "      <td>0</td>\n",
       "      <td>38</td>\n",
       "      <td>0</td>\n",
       "      <td>263358.03</td>\n",
       "      <td>1.1</td>\n",
       "      <td>136</td>\n",
       "      <td>1</td>\n",
       "      <td>0</td>\n",
       "      <td>6</td>\n",
       "      <td>1</td>\n",
       "    </tr>\n",
       "    <tr>\n",
       "      <th>2</th>\n",
       "      <td>65.0</td>\n",
       "      <td>0</td>\n",
       "      <td>146</td>\n",
       "      <td>0</td>\n",
       "      <td>20</td>\n",
       "      <td>0</td>\n",
       "      <td>162000.00</td>\n",
       "      <td>1.3</td>\n",
       "      <td>129</td>\n",
       "      <td>1</td>\n",
       "      <td>1</td>\n",
       "      <td>7</td>\n",
       "      <td>1</td>\n",
       "    </tr>\n",
       "    <tr>\n",
       "      <th>3</th>\n",
       "      <td>50.0</td>\n",
       "      <td>1</td>\n",
       "      <td>111</td>\n",
       "      <td>0</td>\n",
       "      <td>20</td>\n",
       "      <td>0</td>\n",
       "      <td>210000.00</td>\n",
       "      <td>1.9</td>\n",
       "      <td>137</td>\n",
       "      <td>1</td>\n",
       "      <td>0</td>\n",
       "      <td>7</td>\n",
       "      <td>1</td>\n",
       "    </tr>\n",
       "    <tr>\n",
       "      <th>4</th>\n",
       "      <td>65.0</td>\n",
       "      <td>1</td>\n",
       "      <td>160</td>\n",
       "      <td>1</td>\n",
       "      <td>20</td>\n",
       "      <td>0</td>\n",
       "      <td>327000.00</td>\n",
       "      <td>2.7</td>\n",
       "      <td>116</td>\n",
       "      <td>0</td>\n",
       "      <td>0</td>\n",
       "      <td>8</td>\n",
       "      <td>1</td>\n",
       "    </tr>\n",
       "  </tbody>\n",
       "</table>\n",
       "</div>"
      ],
      "text/plain": [
       "    age  anaemia  creatinine_phosphokinase  diabetes  ejection_fraction  \\\n",
       "0  75.0        0                       582         0                 20   \n",
       "1  55.0        0                      7861         0                 38   \n",
       "2  65.0        0                       146         0                 20   \n",
       "3  50.0        1                       111         0                 20   \n",
       "4  65.0        1                       160         1                 20   \n",
       "\n",
       "   high_blood_pressure  platelets  serum_creatinine  serum_sodium  sex  \\\n",
       "0                    1  265000.00               1.9           130    1   \n",
       "1                    0  263358.03               1.1           136    1   \n",
       "2                    0  162000.00               1.3           129    1   \n",
       "3                    0  210000.00               1.9           137    1   \n",
       "4                    0  327000.00               2.7           116    0   \n",
       "\n",
       "   smoking  time  DEATH_EVENT  \n",
       "0        0     4            1  \n",
       "1        0     6            1  \n",
       "2        1     7            1  \n",
       "3        0     7            1  \n",
       "4        0     8            1  "
      ]
     },
     "execution_count": 2,
     "metadata": {},
     "output_type": "execute_result"
    }
   ],
   "source": [
    "\"\"\" Importation de la base de donnees \"\"\"\n",
    "data = pd.read_csv ('dataset.csv')\n",
    "\n",
    "\"\"\"Visualisation de l'ensemble des donnees\"\"\"\n",
    "data.head()"
   ]
  },
  {
   "cell_type": "code",
   "execution_count": 3,
   "metadata": {
    "colab": {
     "base_uri": "https://localhost:8080/"
    },
    "id": "Pq4Rj-Z6Z961",
    "outputId": "d5af9866-d90f-4556-de8f-4a63b80b7b33"
   },
   "outputs": [
    {
     "data": {
      "text/plain": [
       "age                         0\n",
       "anaemia                     0\n",
       "creatinine_phosphokinase    0\n",
       "diabetes                    0\n",
       "ejection_fraction           0\n",
       "high_blood_pressure         0\n",
       "platelets                   0\n",
       "serum_creatinine            0\n",
       "serum_sodium                0\n",
       "sex                         0\n",
       "smoking                     0\n",
       "time                        0\n",
       "DEATH_EVENT                 0\n",
       "dtype: int64"
      ]
     },
     "execution_count": 3,
     "metadata": {},
     "output_type": "execute_result"
    }
   ],
   "source": [
    "\"\"\" Verifier les valeurs manquantes\"\"\"\n",
    "data.isnull().sum()  # Il n'y a aucune valeur manquante"
   ]
  },
  {
   "cell_type": "code",
   "execution_count": 4,
   "metadata": {
    "id": "BM1puX4BdLeb"
   },
   "outputs": [],
   "source": [
    "\"\"\" Extraction et visualisation de la base de donnees des features\"\"\"\n",
    "x = data.iloc[:, :-1].values \n",
    "x = pd.DataFrame(x, columns = data.iloc[:, :-1].columns)\n",
    "\n",
    "\"\"\" Extraction de la variable cible\"\"\"\n",
    "y = data.iloc[:, 12]\n",
    "y = pd.DataFrame(y)\n"
   ]
  },
  {
   "cell_type": "code",
   "execution_count": 5,
   "metadata": {
    "id": "jGxjCziJRnSj"
   },
   "outputs": [],
   "source": [
    "\"\"\" Standardisation MinMax des features pour reduire l'effet des differences d'espace des valeurs\"\"\"\n",
    "from sklearn.preprocessing import MinMaxScaler\n",
    "X = pd.DataFrame(MinMaxScaler().fit_transform(x),columns=x.columns)"
   ]
  },
  {
   "cell_type": "code",
   "execution_count": 6,
   "metadata": {
    "colab": {
     "base_uri": "https://localhost:8080/",
     "height": 741
    },
    "id": "0WXdG67EdNfW",
    "outputId": "e6abf3b2-27db-4f20-ea39-8c8ea2cf4fe0"
   },
   "outputs": [
    {
     "name": "stdout",
     "output_type": "stream",
     "text": [
      "\n",
      " age : 0 outliers : []\n",
      "\n",
      " anaemia : 0 outliers : []\n",
      "\n",
      " creatinine_phosphokinase : 18 outliers : [1, 38, 52, 60, 72, 103, 134, 149, 163, 164, 171, 208, 227, 246, 250, 280, 296, 297]\n",
      "\n",
      " diabetes : 0 outliers : []\n",
      "\n",
      " ejection_fraction : 0 outliers : []\n",
      "\n",
      " high_blood_pressure : 0 outliers : []\n",
      "\n",
      " platelets : 3 outliers : [105, 109, 296]\n",
      "\n",
      " serum_creatinine : 16 outliers : [9, 10, 28, 31, 35, 39, 48, 52, 117, 124, 129, 131, 203, 217, 228, 282]\n",
      "\n",
      " serum_sodium : 1 outliers : [199]\n",
      "\n",
      " sex : 0 outliers : []\n",
      "\n",
      " smoking : 0 outliers : []\n",
      "\n",
      " time : 0 outliers : []\n",
      " Tous :  [1, 9, 10, 28, 31, 35, 38, 39, 48, 52, 52, 60, 72, 103, 105, 109, 117, 124, 129, 131, 134, 149, 163, 164, 171, 199, 203, 208, 217, 227, 228, 246, 250, 280, 282, 296, 296, 297]\n"
     ]
    },
    {
     "data": {
      "text/plain": [
       "36"
      ]
     },
     "execution_count": 6,
     "metadata": {},
     "output_type": "execute_result"
    },
    {
     "data": {
      "image/png": "[encoded data removed]",
      "text/plain": [
       "<Figure size 432x288 with 1 Axes>"
      ]
     },
     "metadata": {
      "needs_background": "light"
     },
     "output_type": "display_data"
    }
   ],
   "source": [
    "\"\"\" Definition d'une fonction pour detection les outliers \"\"\"\n",
    "\n",
    "def outl (X, var) : \n",
    "    import seaborn as sns\n",
    "    \"\"\" Definir une fonction retournant les indices des outliers \"\"\"\n",
    "    sns.boxplot(data = X, x=data[var])\n",
    "    q1 = X[var].quantile(0.25)\n",
    "    q3 = X[var].quantile(0.75)\n",
    "    iqr = q3 - q1\n",
    "\n",
    "    outliers = []\n",
    "    for i in X.index :\n",
    "        if X.loc [i, var] < (q1 - 3*iqr) or X.loc [i, var] > (q3 + 3*iqr) : \n",
    "            outliers.append (i)\n",
    "    return outliers\n",
    "\n",
    "\"\"\" Detection des outliers \"\"\"\n",
    "\n",
    "Outliers = []\n",
    "for i in np.arange (X.shape[1]) :  \n",
    "    var = X.columns[i]\n",
    "    outliers = outl (X, X.columns[i])\n",
    "    Outliers.extend (outliers)\n",
    "    print ('\\n', X.columns[i], ':', len (outliers), 'outliers :', outliers)\n",
    "\n",
    "Outliers.sort()\n",
    "print (\" Tous : \", Outliers)\n",
    "\n",
    "\"\"\"Nombre d'outliers\"\"\"\n",
    "len (list (set (Outliers)))"
   ]
  },
  {
   "cell_type": "code",
   "execution_count": 7,
   "metadata": {
    "colab": {
     "base_uri": "https://localhost:8080/"
    },
    "id": "yYykcHbDd1io",
    "outputId": "af9ea1bf-7ab8-4b17-b139-18f3c3ec44be"
   },
   "outputs": [
    {
     "data": {
      "text/plain": [
       "((263, 12), (263, 1))"
      ]
     },
     "execution_count": 7,
     "metadata": {},
     "output_type": "execute_result"
    }
   ],
   "source": [
    "\"\"\" On supprime les outliers \"\"\"\n",
    "X.drop (Outliers, inplace = True)\n",
    "y.drop (Outliers, inplace = True)\n",
    "\n",
    "\"\"\"Taille des nouvelles donnees (features et variable cible)\"\"\"\n",
    "X.shape, y.shape"
   ]
  },
  {
   "cell_type": "code",
   "execution_count": 8,
   "metadata": {
    "colab": {
     "base_uri": "https://localhost:8080/",
     "height": 402
    },
    "id": "7J2PE405d1tN",
    "outputId": "d2423d02-99b4-4af2-9353-b3260cc12ef1"
   },
   "outputs": [
    {
     "name": "stderr",
     "output_type": "stream",
     "text": [
      "/home/cherif/anaconda3/lib/python3.8/site-packages/seaborn/_decorators.py:36: FutureWarning: Pass the following variable as a keyword arg: x. From version 0.12, the only valid positional argument will be `data`, and passing other arguments without an explicit keyword will result in an error or misinterpretation.\n",
      "  warnings.warn(\n"
     ]
    },
    {
     "data": {
      "text/plain": [
       "DEATH_EVENT\n",
       "0              69.961977\n",
       "1              30.038023\n",
       "dtype: float64"
      ]
     },
     "execution_count": 8,
     "metadata": {},
     "output_type": "execute_result"
    },
    {
     "data": {
      "image/png": "[encoded data removed]",
      "text/plain": [
       "<Figure size 432x288 with 1 Axes>"
      ]
     },
     "metadata": {
      "needs_background": "light"
     },
     "output_type": "display_data"
    }
   ],
   "source": [
    "\"\"\" Imbalanced data \"\"\"\n",
    "\n",
    "sns.countplot(y['DEATH_EVENT'])\n",
    "\n",
    "\"\"\" Pourcentage de chaque categorie de la variable cible\"\"\"\n",
    "100*y.value_counts()/sum (y.value_counts())"
   ]
  },
  {
   "cell_type": "code",
   "execution_count": 9,
   "metadata": {
    "colab": {
     "base_uri": "https://localhost:8080/",
     "height": 1000
    },
    "id": "V7jI_MJweCZk",
    "outputId": "459f6266-fdd4-4891-e680-4888bbe2f19d"
   },
   "outputs": [
    {
     "data": {
      "text/plain": [
       "<AxesSubplot:>"
      ]
     },
     "execution_count": 9,
     "metadata": {},
     "output_type": "execute_result"
    },
    {
     "data": {
      "image/png": "[encoded data removed]",
      "text/plain": [
       "<Figure size 1296x1296 with 2 Axes>"
      ]
     },
     "metadata": {
      "needs_background": "light"
     },
     "output_type": "display_data"
    }
   ],
   "source": [
    "# Matrice de corrélation\n",
    "f,ax = plt.subplots(figsize=(18, 18))\n",
    "sns.heatmap(X.corr(), annot=True, linewidths=.5, fmt= '.1f',ax=ax)"
   ]
  },
  {
   "cell_type": "code",
   "execution_count": 10,
   "metadata": {
    "colab": {
     "base_uri": "https://localhost:8080/"
    },
    "id": "JRKBuVRfeCqF",
    "outputId": "9082202f-9921-4ed5-c611-ab73a84c1389"
   },
   "outputs": [
    {
     "data": {
      "text/plain": [
       "[]"
      ]
     },
     "execution_count": 10,
     "metadata": {},
     "output_type": "execute_result"
    }
   ],
   "source": [
    "\"\"\" Liste de variables a supprimer (les variables fortement correlees entre elles) \"\"\"\n",
    "\n",
    "drop_list=[]\n",
    "for var in X.columns:\n",
    "  if not var in drop_list:\n",
    "    data_corr=X.loc[:, X.corr()[var]>0.7]\n",
    "    dlist=data_corr.columns[1:]\n",
    "    for i in dlist:\n",
    "      if not var in drop_list:\n",
    "        drop_list.append(i)\n",
    "drop_list  #  Aucune variable a supprimer"
   ]
  },
  {
   "cell_type": "code",
   "execution_count": 11,
   "metadata": {
    "colab": {
     "base_uri": "https://localhost:8080/"
    },
    "id": "eiANtNPgeDIh",
    "outputId": "c1e871c0-0c6f-4f90-8387-a0770fc5cc81"
   },
   "outputs": [
    {
     "name": "stdout",
     "output_type": "stream",
     "text": [
      "Number transactions X_train dataset:  (210, 12)\n",
      "Number transactions y_train dataset:  (210, 1)\n",
      "Number transactions X_test dataset:  (53, 12)\n",
      "Number transactions y_test dataset:  (53, 1)\n"
     ]
    }
   ],
   "source": [
    "\"\"\" Imbalanced data \"\"\"\n",
    "from imblearn.over_sampling import SMOTE\n",
    "\n",
    "from sklearn.model_selection import train_test_split\n",
    "X_train, X_test, y_train, y_test = train_test_split(X, y, test_size=0.2, random_state=0)   # 20% et 80%\n",
    "\n",
    "print(\"Number transactions X_train dataset: \", X_train.shape)\n",
    "print(\"Number transactions y_train dataset: \", y_train.shape)\n",
    "print(\"Number transactions X_test dataset: \", X_test.shape)\n",
    "print(\"Number transactions y_test dataset: \", y_test.shape)"
   ]
  },
  {
   "cell_type": "code",
   "execution_count": 15,
   "metadata": {
    "colab": {
     "base_uri": "https://localhost:8080/"
    },
    "id": "kEsj8bYAWOmZ",
    "outputId": "f77edbd4-9ce1-4e58-d839-1a92ba9770a6"
   },
   "outputs": [],
   "source": [
    "\"\"\"\"Handle imbalanced \"\"\"\n",
    "sm = SMOTE(random_state=2)\n",
    "X_train_new, y_train_new = sm.fit_resample(X_train, y_train)\n",
    "X_train_new = pd.DataFrame (X_train_new, columns = X_train.columns)\n",
    "y_train_new = pd.DataFrame (y_train_new, columns = y_train.columns)"
   ]
  },
  {
   "cell_type": "code",
   "execution_count": 16,
   "metadata": {
    "colab": {
     "base_uri": "https://localhost:8080/",
     "height": 419
    },
    "id": "cpPDnM-WeaT6",
    "outputId": "b3ef0ac7-fd55-4c5e-9930-43cc80d7d29f"
   },
   "outputs": [
    {
     "name": "stdout",
     "output_type": "stream",
     "text": [
      "Tableau de frequence : \n",
      " DEATH_EVENT\n",
      "0              50.0\n",
      "1              50.0\n",
      "dtype: float64\n"
     ]
    },
    {
     "name": "stderr",
     "output_type": "stream",
     "text": [
      "/home/cherif/anaconda3/lib/python3.8/site-packages/seaborn/_decorators.py:36: FutureWarning: Pass the following variable as a keyword arg: x. From version 0.12, the only valid positional argument will be `data`, and passing other arguments without an explicit keyword will result in an error or misinterpretation.\n",
      "  warnings.warn(\n"
     ]
    },
    {
     "data": {
      "image/png": "[encoded data removed]",
      "text/plain": [
       "<Figure size 432x288 with 1 Axes>"
      ]
     },
     "metadata": {
      "needs_background": "light"
     },
     "output_type": "display_data"
    }
   ],
   "source": [
    "\"\"\" Show that the new data are balanced\"\"\"\n",
    "X_train_new.shape  # 296\n",
    "y_train_new.shape  # 296\n",
    "\n",
    "sns.countplot(y_train_new['DEATH_EVENT'])\n",
    "print('Tableau de frequence : \\n',100*y_train_new.value_counts()/sum (y_train_new.value_counts()))\n"
   ]
  },
  {
   "cell_type": "markdown",
   "metadata": {
    "id": "wIxy3bC-WhYJ"
   },
   "source": [
    "# Classification et selection du meilleur classifieur\n",
    "On ppostule les models KNN, Decision Tree Regressor et SVM. On selectionne par la suite le meilleur modele en se basant sur la precision de chacun d'eux."
   ]
  },
  {
   "cell_type": "code",
   "execution_count": 17,
   "metadata": {
    "colab": {
     "base_uri": "https://localhost:8080/"
    },
    "id": "_l28Uc-7oYF_",
    "outputId": "11e1fc00-0884-4e14-a856-8c3fb7b48497"
   },
   "outputs": [
    {
     "name": "stdout",
     "output_type": "stream",
     "text": [
      "Accuracy: 0.660377358490566\n",
      "Confusion Metrix balanced:\n",
      " [[28  8]\n",
      " [10  7]]\n"
     ]
    },
    {
     "name": "stderr",
     "output_type": "stream",
     "text": [
      "/home/cherif/anaconda3/lib/python3.8/site-packages/sklearn/neighbors/_classification.py:179: DataConversionWarning: A column-vector y was passed when a 1d array was expected. Please change the shape of y to (n_samples,), for example using ravel().\n",
      "  return self._fit(X, y)\n"
     ]
    }
   ],
   "source": [
    "\"\"\"KNN\"\"\"\n",
    "\n",
    "knn = KNeighborsClassifier(n_jobs=-1)\n",
    "#learning\n",
    "knn.fit(X_train_new, y_train_new)\n",
    "#Prediction\n",
    "ypred_knn=knn.predict(X_test)\n",
    "#importing the metrics module\n",
    "from sklearn import metrics\n",
    "\n",
    "#evaluation(prediction1,y_test)\n",
    "print(\"Accuracy:\",knn.score(X_test, y_test))\n",
    "\n",
    "#evaluation(Confusion Metrix)\n",
    "\n",
    "print(\"Confusion Metrix balanced:\\n\",metrics.confusion_matrix(y_test,ypred_knn))"
   ]
  },
  {
   "cell_type": "code",
   "execution_count": 18,
   "metadata": {
    "colab": {
     "base_uri": "https://localhost:8080/"
    },
    "id": "GKp0xt2KZ97N",
    "outputId": "534efb29-38ef-45e9-f49d-cbb44ea4d382"
   },
   "outputs": [
    {
     "name": "stdout",
     "output_type": "stream",
     "text": [
      "Decision Tree Regressor / Train score is : 1.0\n",
      "Decision Tree Regressor / Test score is : 0.39379084967320266\n",
      "Confusion Metrix balanced:\n",
      " [[32  4]\n",
      " [ 3 14]]\n"
     ]
    }
   ],
   "source": [
    "\"\"\"Decision Tree Regressor\"\"\"\n",
    "\n",
    "from sklearn.tree import DecisionTreeRegressor\n",
    "\n",
    "DTregressor = DecisionTreeRegressor(max_depth=10, random_state=1)\n",
    "DTregressor.fit(X_train_new,y_train_new)\n",
    "\n",
    "# Calculate the training and test score\n",
    "print(\"Decision Tree Regressor / Train score is :\", DTregressor.score(X_train_new,y_train_new))\n",
    "print(\"Decision Tree Regressor / Test score is :\", DTregressor.score(X_test,y_test))\n",
    "\n",
    "\n",
    "# Calculate the prediction of the model\n",
    "ypred_DTr = DTregressor.predict(X_test)\n",
    "print(\"Confusion Metrix balanced:\\n\",metrics.confusion_matrix(y_test,ypred_DTr))"
   ]
  },
  {
   "cell_type": "code",
   "execution_count": 19,
   "metadata": {
    "colab": {
     "base_uri": "https://localhost:8080/"
    },
    "id": "BAR9gO1-Z97P",
    "outputId": "3e62d004-438e-44ef-bf33-8e405ba27e58"
   },
   "outputs": [
    {
     "name": "stderr",
     "output_type": "stream",
     "text": [
      "<ipython-input-19-d0ce09045935>:6: DataConversionWarning: A column-vector y was passed when a 1d array was expected. Please change the shape of y to (n_samples,), for example using ravel().\n",
      "  RFregressor.fit(X_train_new,y_train_new)\n"
     ]
    },
    {
     "name": "stdout",
     "output_type": "stream",
     "text": [
      "Random Forest Regressor / Train score is : 0.6724412097737844\n",
      "Random Forest Regressor / Test score is : 0.6424518831318627\n",
      "Random Forest Regressor / N° of features  are :  12\n",
      "Important features are :  [4.12706968e-02 2.06187950e-03 2.70856310e-02 4.73052055e-04\n",
      " 8.47552433e-02 0.00000000e+00 6.89994930e-03 1.91324175e-01\n",
      " 4.15558714e-02 1.54168432e-03 0.00000000e+00 6.03031817e-01]\n"
     ]
    }
   ],
   "source": [
    "\"\"\" Random Forest Regressor \"\"\"\n",
    "\n",
    "from sklearn.ensemble import RandomForestRegressor\n",
    "\n",
    "RFregressor = RandomForestRegressor(n_estimators=100, max_depth=3, random_state=1)\n",
    "RFregressor.fit(X_train_new,y_train_new)\n",
    "\n",
    "# Calculate the training and test score\n",
    "print(\"Random Forest Regressor / Train score is :\", RFregressor.score(X_train_new,y_train_new))\n",
    "print(\"Random Forest Regressor / Test score is :\", RFregressor.score(X_test,y_test))\n",
    "print(\"Random Forest Regressor / N° of features  are : \", RFregressor.n_features_)\n",
    "print(\"Important features are : \" , RFregressor.feature_importances_)\n",
    "\n",
    "\n",
    "# Calculate the prediction of the model\n",
    "ypred_RFr = RFregressor.predict(X_test)"
   ]
  },
  {
   "cell_type": "code",
   "execution_count": 20,
   "metadata": {
    "colab": {
     "base_uri": "https://localhost:8080/"
    },
    "id": "RAi6zXPvZ97S",
    "outputId": "f8f4d640-6ca7-4e5b-81c2-b6015fad9efc"
   },
   "outputs": [
    {
     "name": "stdout",
     "output_type": "stream",
     "text": [
      "SVM regressor / Train score is : 0.45765006056615054\n",
      "SVM regressor / Test score is : 0.3854521920048498\n"
     ]
    },
    {
     "name": "stderr",
     "output_type": "stream",
     "text": [
      "/home/cherif/anaconda3/lib/python3.8/site-packages/sklearn/utils/validation.py:63: DataConversionWarning: A column-vector y was passed when a 1d array was expected. Please change the shape of y to (n_samples, ), for example using ravel().\n",
      "  return f(*args, **kwargs)\n"
     ]
    }
   ],
   "source": [
    "\"\"\" SVM \"\"\"\n",
    "\n",
    "from sklearn.svm import SVR\n",
    "\n",
    "SVMregressor = SVR(kernel='linear')\n",
    "SVMregressor.fit(X_train_new, y_train_new)\n",
    "\n",
    "# Calculate the training and test score\n",
    "print(\"SVM regressor / Train score is :\", SVMregressor.score(X_train_new,y_train_new))\n",
    "print(\"SVM regressor / Test score is :\", SVMregressor.score(X_test,y_test))\n",
    "\n",
    "# Calculate the prediction of the model\n",
    "ypred_SVMr = SVMregressor.predict(X_test)"
   ]
  },
  {
   "cell_type": "code",
   "execution_count": 21,
   "metadata": {
    "colab": {
     "base_uri": "https://localhost:8080/"
    },
    "id": "qBQp27btqOm0",
    "outputId": "1ca470b0-6359-4094-ef08-0eb04cb4b68d"
   },
   "outputs": [
    {
     "name": "stdout",
     "output_type": "stream",
     "text": [
      "KNN Accuracy: \n",
      " 0.660377358490566\n",
      "Decision Tree Regressor Accuracy: \n",
      " 0.39379084967320266\n",
      "SVM Accuracy : \n",
      " 0.3854521920048498\n"
     ]
    }
   ],
   "source": [
    "\"\"\" Ici on resume les precision de chaque model,le meilleur modele est le KNN. On l'utilise par la suite pour predire de nouvelles valeurs \"\"\"\n",
    "\n",
    "knn_score = knn.score (X_test, y_test)\n",
    "print (\"KNN Accuracy: \\n\", knn_score)\n",
    "dtr_score = DTregressor.score (X_test, y_test)\n",
    "print (\"Decision Tree Regressor Accuracy: \\n\",dtr_score)\n",
    "svm_score = SVMregressor.score (X_test, y_test)\n",
    "print (\"SVM Accuracy : \\n\", svm_score)"
   ]
  },
  {
   "cell_type": "code",
   "execution_count": 22,
   "metadata": {
    "colab": {
     "base_uri": "https://localhost:8080/"
    },
    "id": "2SwoJNTcZ97W",
    "outputId": "ad4cea08-2216-449b-9768-aecbf258e457"
   },
   "outputs": [
    {
     "name": "stdout",
     "output_type": "stream",
     "text": [
      "0.660377358490566\n"
     ]
    }
   ],
   "source": [
    "### Saving the best model ###\n",
    "max_score = max(knn_score, dtr_score, svm_score)\n",
    "print(max_score)   # Pour le KNN"
   ]
  },
  {
   "cell_type": "code",
   "execution_count": 23,
   "metadata": {
    "colab": {
     "base_uri": "https://localhost:8080/"
    },
    "id": "rN2-SVr8bF-Z",
    "outputId": "11f1bd41-54e2-47bd-a5f0-ee2a4601af6b"
   },
   "outputs": [
    {
     "data": {
      "text/plain": [
       "(53, 12)"
      ]
     },
     "execution_count": 23,
     "metadata": {},
     "output_type": "execute_result"
    }
   ],
   "source": [
    "\"\"\" La nouvelle classe a predire utilise les valeurs de 12 features \"\"\"\n",
    "X_test.shape"
   ]
  },
  {
   "cell_type": "markdown",
   "metadata": {
    "id": "mcGH4jy2k5oC"
   },
   "source": [
    "# Prediction d'une nouvelle valeur\n",
    "On utilise ici le knn pour prédire une nouvelle observation (une ligne du nouveau dataset Xtest). 'indice' designe la ligne choisie et correspond aux entrée pour un individu donné (les valeurs des features). On peut faire varier donc 'indice'."
   ]
  },
  {
   "cell_type": "code",
   "execution_count": 24,
   "metadata": {
    "colab": {
     "base_uri": "https://localhost:8080/"
    },
    "id": "sTk4E3l6l3rz",
    "outputId": "e98ea99c-1e59-461e-fcf0-06e029be2520"
   },
   "outputs": [
    {
     "name": "stdout",
     "output_type": "stream",
     "text": [
      "Saisir l'indice de l'entrée à prédire : 5\n"
     ]
    }
   ],
   "source": [
    "indice = int(input (\"Saisir l'indice de l'entrée à prédire : \"))   # L'indice designe le numero de ligne (comptage a partir de 0 en python) de l'individu dans la base X_test, on peut faire varier indice (0-54)"
   ]
  },
  {
   "cell_type": "code",
   "execution_count": 25,
   "metadata": {
    "colab": {
     "base_uri": "https://localhost:8080/"
    },
    "id": "XXCOh9QRZiVa",
    "outputId": "a028b3a6-51d2-435a-8b69-3de6f13907fe"
   },
   "outputs": [
    {
     "name": "stdout",
     "output_type": "stream",
     "text": [
      "Est décédé\n"
     ]
    }
   ],
   "source": [
    "\"\"\" Utilisation du KNN pour predire une nouvelle valeur\"\"\"\n",
    "new_observation = pd.DataFrame(X_test.iloc[indice])    # Selection de la ligne indice (les observations d'un individu)\n",
    "new_observation=new_observation.T   # Pour le ramener dans la meme dimension que les donnees d'entrainement\n",
    "\n",
    "ypred_knn = knn.predict(new_observation)   #Prediction de la nouvelle observation a l'indice 'indice'\n",
    "\n",
    "if ypred_knn == 0 :\n",
    "  print ('Est décédé')\n",
    "elif ypred_knn == 1 :\n",
    "  print ('A survécu')\n"
   ]
  },
  {
   "cell_type": "code",
   "execution_count": 26,
   "metadata": {},
   "outputs": [
    {
     "name": "stdout",
     "output_type": "stream",
     "text": [
      "0.660377358490566\n"
     ]
    }
   ],
   "source": [
    "### Saving the best model ###\n",
    "max_score = max(knn_score, dtr_score, svm_score)\n",
    "print(max_score)   # Pour le KNN\n",
    "# Saving model to disk\n",
    "pickle.dump(knn, open('model.pkl','wb'))"
   ]
  },
  {
   "cell_type": "code",
   "execution_count": null,
   "metadata": {},
   "outputs": [],
   "source": []
  }
 ],
 "metadata": {
  "colab": {
   "collapsed_sections": [],
   "name": "TP_web_mining.ipynb",
   "provenance": []
  },
  "kernelspec": {
   "display_name": "Python 3",
   "language": "python",
   "name": "python3"
  },
  "language_info": {
   "codemirror_mode": {
    "name": "ipython",
    "version": 3
   },
   "file_extension": ".py",
   "mimetype": "text/x-python",
   "name": "python",
   "nbconvert_exporter": "python",
   "pygments_lexer": "ipython3",
   "version": "3.8.3"
  }
 },
 "nbformat": 4,
 "nbformat_minor": 1
}
